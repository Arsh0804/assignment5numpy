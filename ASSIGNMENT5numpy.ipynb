{
 "cells": [
  {
   "cell_type": "code",
   "execution_count": null,
   "id": "b0b65858-967a-45b9-b10d-19680b82bc3f",
   "metadata": {},
   "outputs": [],
   "source": [
    "#NUMPY ASSIGNMENT"
   ]
  },
  {
   "cell_type": "code",
   "execution_count": null,
   "id": "9af6d6dd-7bd4-40f4-b262-43d83beb7957",
   "metadata": {},
   "outputs": [],
   "source": [
    "                                                     #THEORETICAL QUESTIONS"
   ]
  },
  {
   "cell_type": "code",
   "execution_count": null,
   "id": "527c6d2a-0951-4135-a64a-3404c2b3114e",
   "metadata": {},
   "outputs": [],
   "source": [
    "#Q1. Explain the purpose and advantages of NumPy in scientific computing and data analysis. How does enhance Python's capabilities for numerical operations?\n",
    "'''\n",
    "NumPy, short for Numerical Python, is a crucial library for scientific computing and data analysis in Python. Here's why\n",
    "Purpose:\n",
    "\n",
    "NumPy provides support for:\n",
    "Multi-dimensional arrays and matrices: It offers efficient storage and manipulation of large datasets.\n",
    "Mathematical functions: It includes a comprehensive set of mathematical functions to operate on these arrays.\n",
    "\n",
    "Advantages:\n",
    "\n",
    "1.Performance: Written in C, NumPy is much faster than Python’s native lists for numerical computations, thanks to optimized operations and efficient memory usage.\n",
    "2.Convenience: With its powerful N-dimensional array object (ndarray), handling numerical data becomes both easy and intuitive.\n",
    "3.Functionality: Supports a variety of mathematical, statistical, and linear algebra operations.\n",
    "4.Interoperability: Works seamlessly with other libraries like SciPy, Pandas, and Matplotlib, enhancing its utility.\n",
    "5.Vectorization: Allows vectorized operations, eliminating the need for explicit loops and making code more concise and readable.\n",
    "\n",
    "Enhancing Python’s Capabilities:\n",
    "\n",
    "1.Efficient Data Storage: NumPy arrays are more memory-efficient compared to Python lists.\n",
    "2.Speed: Operations on NumPy arrays are performed at C speed, significantly boosting performance.\n",
    "3.Set of Functions: Offers comprehensive mathematical functions and tools for complex calculations.\n",
    "4.Array Broadcasting: Supports broadcasting, simplifying arithmetic operations on arrays of different shapes.\n",
    "'''"
   ]
  },
  {
   "cell_type": "code",
   "execution_count": 2,
   "id": "dd49018b-9dcc-4d9a-bfcc-42558c03d77e",
   "metadata": {},
   "outputs": [
    {
     "name": "stdout",
     "output_type": "stream",
     "text": [
      "3.0\n",
      "3.6666666666666665\n"
     ]
    }
   ],
   "source": [
    "#Q2. Compare and contrast np.mean() and np.average() functions in NumPy. When would you use one over the other?\n",
    "'''\n",
    "Comparison:\n",
    "Purpose: Both functions are used to compute the average of the input data.\n",
    "Basic Functionality: Without weights, both np.mean() and np.average() produce the same result by calculating the arithmetic mean of the array elements.\n",
    "Axis Support: Both functions support the axis parameter, allowing you to calculate the mean along a specific axis of an array.\n",
    "\n",
    "Contrast:\n",
    "\n",
    "Weighting:\n",
    "np.mean(): Does not support weighting. It calculates a simple arithmetic mean.\n",
    "np.average(): Supports weighting. It can calculate a weighted average if weights are provided through the weights parameter.\n",
    "\n",
    "Syntax:\n",
    "np.mean(): np.mean(array, axis=None)\n",
    "np.average(): np.average(array, axis=None, weights=None)\n",
    "\n",
    "Usage Scenarios:\n",
    "Use np.mean(): When you need a straightforward calculation of the mean without any weighting considerations.\n",
    "Use np.average(): When you need to compute a weighted average, taking into account different weights for different elements of the array.\n",
    "\n",
    "When to Use Each:\n",
    "\n",
    "Use np.mean(): When you want a straightforward calculation of the mean without any weighting. For example:\n",
    "'''\n",
    "import numpy as np\n",
    "data = np.array([1, 2, 3, 4, 5])\n",
    "mean = np.mean(data)\n",
    "print(mean)  \n",
    "\n",
    "#Use np.average(): When you need to calculate the average of an array with weights. For example:\n",
    "import numpy as np\n",
    "data = np.array([1, 2, 3, 4, 5])\n",
    "weights = np.array([1, 2, 3, 4, 5])\n",
    "average = np.average(data, weights=weights)\n",
    "print(average)  "
   ]
  },
  {
   "cell_type": "code",
   "execution_count": 4,
   "id": "bf742552-9d71-45ef-802c-a59029bc337c",
   "metadata": {},
   "outputs": [
    {
     "name": "stdout",
     "output_type": "stream",
     "text": [
      "[5 4 3 2 1]\n",
      "[[7 8 9]\n",
      " [4 5 6]\n",
      " [1 2 3]]\n",
      "[[3 2 1]\n",
      " [6 5 4]\n",
      " [9 8 7]]\n",
      "[[9 8 7]\n",
      " [6 5 4]\n",
      " [3 2 1]]\n"
     ]
    }
   ],
   "source": [
    "#Q3.Describe the methods for reversing a NumPy array along different axes. Provide examples for 1D and 2D arrays.\n",
    "'''\n",
    "In NumPy, you can reverse arrays along different axes using slicing techniques and specific functions like np.flip\n",
    "'''\n",
    "# Reversing a 1D Array: We can reverse a 1D array using slicing.\n",
    "import numpy as np\n",
    "\n",
    "# Creating a 1D array\n",
    "array_1d = np.array([1, 2, 3, 4, 5])\n",
    "\n",
    "# Reversing the array\n",
    "reversed_array_1d = array_1d[::-1]\n",
    "\n",
    "print(reversed_array_1d)  \n",
    "\n",
    "#Reversing a 2D Array: We can reverse a 2D array along different axes using np.flip and slicing.\n",
    "\n",
    "# Creating a 2D array\n",
    "array_2d = np.array([[1, 2, 3], [4, 5, 6], [7, 8, 9]])\n",
    "\n",
    "# Reversing along axis 0\n",
    "reversed_array_2d_axis0 = np.flip(array_2d, axis=0)\n",
    "\n",
    "print(reversed_array_2d_axis0)\n",
    "\n",
    "#Reverse along axis 1 (columns):\n",
    "\n",
    "# Reversing along axis 1\n",
    "reversed_array_2d_axis1 = np.flip(array_2d, axis=1)\n",
    "\n",
    "print(reversed_array_2d_axis1)\n",
    "\n",
    "# Reverse the whole 2D array: We can reverse the entire 2D array by flipping it along both axes.\n",
    "# Reversing the entire array\n",
    "reversed_array_2d = np.flip(array_2d)\n",
    "\n",
    "print(reversed_array_2d)\n"
   ]
  },
  {
   "cell_type": "code",
   "execution_count": null,
   "id": "a05c29e2-386e-41a1-b321-f4dc99f77e26",
   "metadata": {},
   "outputs": [],
   "source": [
    "#Q4.How can you determine the data type of elements in a NumPy array? Discuss the importance of data types in memory management and performance.\n",
    "\n",
    "'''\n",
    "We can determine the data type of elements in a NumPy array using the dtype attribute. This shows what kind of data the array holds, \n",
    "which is crucial for memory management and performance optimization.\n",
    "\n",
    "Importance of Data Types:\n",
    "\n",
    "Memory Management:\n",
    "NumPy arrays are more memory-efficient than Python lists because they are densely packed in memory.\n",
    "The data type (dtype) defines the size of each element, allowing NumPy to allocate a fixed and compact block of memory.\n",
    "For instance, using int8 (8-bit integer) instead of int64 (64-bit integer) can significantly reduce memory usage.\n",
    "\n",
    "Performance:\n",
    "Fixed data types allow NumPy to perform operations more quickly since it doesn't need to check the type of each element at runtime.\n",
    "Operations on NumPy arrays are performed at C speed, which is much faster than equivalent operations on Python lists.\n",
    "Optimized numerical operations: NumPy uses vectorized operations, which are faster and more efficient than looping through elements in Python.\n",
    "'''"
   ]
  },
  {
   "cell_type": "code",
   "execution_count": null,
   "id": "c91fead2-e97c-4cfe-8bee-9bb6f25e71a3",
   "metadata": {},
   "outputs": [],
   "source": [
    "#Q5. Define ndarrays in NumPy and explain their key features. How do they differ from standard Python lists?\n",
    "'''\n",
    "Definition:\n",
    "ndarray stands for \"N-dimensional array\". It's a central feature of the NumPy library and provides a way to efficiently store and manipulate large datasets in multiple dimensions.\n",
    "\n",
    "Key Features:\n",
    "1.Homogeneous Data: All elements in an ndarray must be of the same data type, allowing for efficient storage and operations.\n",
    "\n",
    "2.N-dimensional: Supports arrays of any dimension, making it versatile for various data structures (1D, 2D, 3D, etc.).\n",
    "\n",
    "3.Efficient Memory Usage: Uses contiguous blocks of memory, which enhances performance and memory efficiency.\n",
    "\n",
    "4.Advanced Indexing and Slicing: Supports sophisticated indexing techniques, including boolean masking, integer indexing, and slicing.\n",
    "\n",
    "5.Vectorized Operations: Allows for element-wise operations without explicit loops, leveraging optimized C and Fortran code.\n",
    "\n",
    "6.Broadcasting: Enables operations on arrays of different shapes, automatically expanding the smaller array to match the larger one.\n",
    "\n",
    "7.Built-in Functions: Comes with a plethora of mathematical, statistical, and algebraic functions.\n",
    "\n",
    "Differences from Standard Python Lists:\n",
    "\n",
    "1.Performance:\n",
    "\n",
    "ndarray: Highly optimized for numerical operations, leveraging low-level implementations.\n",
    "Python Lists: Slower for numerical operations as they lack such optimizations.\n",
    "\n",
    "2.Memory Efficiency:\n",
    "\n",
    "ndarray: More memory-efficient due to homogeneous data types and contiguous memory allocation.\n",
    "Python Lists: Less efficient as they store references to objects, requiring more memory.\n",
    "\n",
    "3.Element-wise Operations:\n",
    "\n",
    "ndarray: Supports vectorized operations, enabling element-wise arithmetic without loops.\n",
    "Python Lists: Requires explicit loops for element-wise operations.\n",
    "\n",
    "4.Functionality:\n",
    "\n",
    "ndarray: Packed with built-in functions for complex mathematical operations.\n",
    "Python Lists: Lack built-in support for advanced mathematical operations.\n",
    "'''\n"
   ]
  },
  {
   "cell_type": "code",
   "execution_count": 8,
   "id": "9421ae8a-b387-4cb7-b161-1125e9372fcd",
   "metadata": {},
   "outputs": [
    {
     "name": "stdout",
     "output_type": "stream",
     "text": [
      "NumPy operation took: 0.008929252624511719\n",
      "List operation took: 0.09714794158935547\n"
     ]
    },
    {
     "data": {
      "text/plain": [
       "'\\nCase Study - Matrix Multiplication:\\nMatrix operations, such as multiplication, are dramatically faster with NumPy:\\n'"
      ]
     },
     "execution_count": 8,
     "metadata": {},
     "output_type": "execute_result"
    }
   ],
   "source": [
    "#Q6. Analyze the performance benefits of NumPy arrays over Python lists for large-scale numerical operations.\n",
    "'''\n",
    "Memory Efficiency:\n",
    "Contiguous Memory Blocks: NumPy arrays are stored in contiguous blocks of memory, ensuring efficient storage and quick access.\n",
    "Python lists, however, store references to objects, which is less memory-efficient.\n",
    "\n",
    "Homogeneous Data Types: NumPy arrays contain elements of a single data type. \n",
    "This consistency allows for optimized storage and faster computations. Python lists, being heterogeneous, can store mixed data types,\n",
    "increasing memory usage and reducing performance.\n",
    "\n",
    "Performance:\n",
    "Vectorized Operations: NumPy supports element-wise operations without explicit loops, \n",
    "thanks to vectorization. These operations are optimized at a low level, significantly boosting speed.\n",
    "Typically, we’ll find that the NumPy operation is much faster due to optimized C and Fortran code running under the hood.\n",
    "'''\n",
    "\n",
    "import numpy as np\n",
    "import time\n",
    "\n",
    "# Creating large arrays\n",
    "array = np.arange(1e6)\n",
    "list_ = list(range(int(1e6)))\n",
    "\n",
    "# Timing NumPy operation\n",
    "start_time = time.time()\n",
    "array_squared = array ** 2\n",
    "print(\"NumPy operation took:\", time.time() - start_time)\n",
    "\n",
    "# Timing list operation\n",
    "start_time = time.time()\n",
    "list_squared = [x ** 2 for x in list_]\n",
    "print(\"List operation took:\", time.time() - start_time)\n",
    "'''\n",
    "Broadcasting:\n",
    "Automatic Expansion: NumPy's broadcasting allows it to perform operations on arrays of different shapes seamlessly, expanding them as needed. \n",
    "This feature saves memory and coding effort.\n",
    "'''\n",
    "a = np.array([1, 2, 3])\n",
    "b = np.array([[4], [5], [6]])\n",
    "result = a + b \n",
    "\n",
    "'''\n",
    "Built-in Mathematical Functions:\n",
    "Comprehensive Library: NumPy offers a wide range of mathematical, statistical, and linear algebra functions that are highly optimized and \n",
    "faster than equivalent Python list operations.\n",
    "'''\n",
    "# Mean calculation\n",
    "np_mean = np.mean(array)\n",
    "py_mean = sum(list_) / len(list_)\n",
    "\n",
    "'''\n",
    "Case Study - Matrix Multiplication:\n",
    "Matrix operations, such as multiplication, are dramatically faster with NumPy:\n",
    "'''"
   ]
  },
  {
   "cell_type": "code",
   "execution_count": 10,
   "id": "725b3e2c-7f27-4e72-8d0b-cc04e5b43de2",
   "metadata": {},
   "outputs": [
    {
     "name": "stdout",
     "output_type": "stream",
     "text": [
      "[[1 2 3]\n",
      " [4 5 6]]\n",
      "[1 2 3 4 5 6]\n"
     ]
    }
   ],
   "source": [
    "#Q7.Compare vstack() and hstack() functions in NumPy. Provide examples demonstrating their usage and output.\n",
    "'''\n",
    "vstack():\n",
    "Purpose: Vertically stacks arrays. Think of it as stacking arrays on top of each other.\n",
    "Usage: Used when you want to concatenate arrays along the vertical axis (axis 0).\n",
    "\n",
    "hstack():\n",
    "Purpose: Horizontally stacks arrays. Think of it as placing arrays side by side.\n",
    "Usage: Used when you want to concatenate arrays along the horizontal axis (axis 1).\n",
    "'''\n",
    "#exaple vstack()\n",
    "import numpy as np\n",
    "\n",
    "array1 = np.array([1, 2, 3])\n",
    "array2 = np.array([4, 5, 6])\n",
    "\n",
    "# Using vstack\n",
    "vstacked_array = np.vstack((array1, array2))\n",
    "\n",
    "print(vstacked_array)\n",
    "\n",
    "#example hstack()\n",
    "import numpy as np\n",
    "\n",
    "array1 = np.array([1, 2, 3])\n",
    "array2 = np.array([4, 5, 6])\n",
    "\n",
    "# Using hstack\n",
    "hstacked_array = np.hstack((array1, array2))\n",
    "\n",
    "print(hstacked_array)\n"
   ]
  },
  {
   "cell_type": "code",
   "execution_count": 12,
   "id": "592da3b6-e7e5-45d9-a256-542261c98917",
   "metadata": {},
   "outputs": [
    {
     "name": "stdout",
     "output_type": "stream",
     "text": [
      "[[3 2 1]\n",
      " [6 5 4]\n",
      " [9 8 7]]\n",
      "[[7 8 9]\n",
      " [4 5 6]\n",
      " [1 2 3]]\n"
     ]
    }
   ],
   "source": [
    "#Q8.Explain the differences between fliplr() and flipud() methods in NumPy, including their effects on various array dimensions?\n",
    "'''\n",
    "fliplr()\n",
    "Purpose: Flips the array left to right (horizontally).\n",
    "Effect on Dimensions: The leftmost column becomes the rightmost column and vice versa.\n",
    "Usage: Mainly used for 2D arrays or higher-dimensional arrays where you want to flip elements along the horizontal axis.\n",
    "\n",
    "flipud()\n",
    "Purpose: Flips the array up to down (vertically).\n",
    "Effect on Dimensions: The top row becomes the bottom row and vice versa.\n",
    "Usage: Used for 2D arrays or higher-dimensional arrays where you want to flip elements along the vertical axis.\n",
    "'''\n",
    "#fliplr() example\n",
    "import numpy as np\n",
    "\n",
    "array_2d = np.array([[1, 2, 3],\n",
    "                     [4, 5, 6],\n",
    "                     [7, 8, 9]])\n",
    "\n",
    "flipped_lr = np.fliplr(array_2d)\n",
    "print(flipped_lr)\n",
    "\n",
    "#flipud() example\n",
    "array_2d = np.array([[1, 2, 3],\n",
    "                     [4, 5, 6],\n",
    "                     [7, 8, 9]])\n",
    "\n",
    "flipped_ud = np.flipud(array_2d)\n",
    "print(flipped_ud)\n"
   ]
  },
  {
   "cell_type": "code",
   "execution_count": 14,
   "id": "d9ac97f0-c5df-404b-a6b0-9036f1e6e349",
   "metadata": {},
   "outputs": [
    {
     "name": "stdout",
     "output_type": "stream",
     "text": [
      "[0 1 2 3]\n",
      "[4 5 6]\n",
      "[7 8 9]\n",
      "[0 1 2]\n",
      "[3 4]\n",
      "[5 6]\n",
      "[7 8 9]\n"
     ]
    }
   ],
   "source": [
    "#Q9.Discuss the functionality of the array_split() method in NumPy. How does it handle uneven splits?\n",
    "'''\n",
    "array_split() in NumPy is used to split an array into multiple sub-arrays. It’s quite handy when you need to divide an array into smaller\n",
    ", more manageable chunks.\n",
    "\n",
    "Functionality:\n",
    "Basic Usage: array_split(array, indices_or_sections)\n",
    "\n",
    "array: The input array to be split.\n",
    "indices_or_sections: If an integer, it splits the array into that many equal or nearly equal parts. If a list, it uses the entries as split indices.\n",
    "\n",
    "Handling Uneven Splits:\n",
    "When the array doesn't divide evenly:\n",
    "Integer Argument: NumPy distributes the sub-arrays as evenly as possible. Some of the sub-arrays might have more elements than others.\n",
    "'''\n",
    "import numpy as np\n",
    "\n",
    "array = np.arange(10)\n",
    "split_arrays = np.array_split(array, 3)\n",
    "for arr in split_arrays:\n",
    "    print(arr)\n",
    "\n",
    "#List Argument: If a list of indices is provided, it splits the array at those indices.\n",
    "split_arrays = np.array_split(array, [3, 5, 7])\n",
    "for arr in split_arrays:\n",
    "    print(arr)\n",
    "'''\n",
    "Flexibility: Handles both even and uneven splits efficiently.\n",
    "Customization: Allows for precise control over the split points with list arguments.\n",
    "array_split() is a versatile tool for breaking down large arrays into smaller parts, ensuring that even uneven splits are managed gracefully.\n",
    "'''"
   ]
  },
  {
   "cell_type": "code",
   "execution_count": 16,
   "id": "4671d98c-7a08-4b08-b1f4-9db0f56f5f55",
   "metadata": {},
   "outputs": [
    {
     "name": "stdout",
     "output_type": "stream",
     "text": [
      "[ 1  4  9 16 25]\n",
      "[ 1  4  9 16 25]\n",
      "[[2 3 4]\n",
      " [3 4 5]\n",
      " [4 5 6]]\n"
     ]
    }
   ],
   "source": [
    "#Q10. Explain the concepts of vectorization and broadcasting in NumPy. How do they contribute to efficient array operations?\n",
    "'''\n",
    "Vectorization:\n",
    "Vectorization is the process of performing operations on entire arrays rather than using explicit loops. By leveraging NumPy's capabilities, \n",
    "vectorized operations are implemented in optimized C code, making them significantly faster than standard Python loops\n",
    "Vectorization allows us to operate on the entire array at once, significantly improving performance.\n",
    "'''\n",
    "import numpy as np\n",
    "\n",
    "# Using loops\n",
    "array = np.array([1, 2, 3, 4, 5])\n",
    "result = np.zeros_like(array)\n",
    "for i in range(len(array)):\n",
    "    result[i] = array[i] ** 2\n",
    "\n",
    "# Using vectorization\n",
    "result_vectorized = array ** 2\n",
    "\n",
    "print(result)           \n",
    "print(result_vectorized)  \n",
    "\n",
    "'''\n",
    "Broadcasting:\n",
    "Broadcasting is a method that allows NumPy to perform operations on arrays of different shapes. It \"stretches\" the smaller array to match\n",
    "the shape of the larger array without making actual copies of the data, leading to efficient memory usage and performance gains.\n",
    "\n",
    "Rules of Broadcasting:\n",
    "If the arrays differ in their number of dimensions, the shape of the smaller-dimensional array is padded with ones on its left side.\n",
    "If the shape of the arrays doesn’t match, NumPy tries to stretch the smaller array along the mismatched dimension.\n",
    "'''\n",
    "import numpy as np\n",
    "\n",
    "array1 = np.array([1, 2, 3])\n",
    "array2 = np.array([[1], [2], [3]])\n",
    "\n",
    "# Broadcasting addition\n",
    "result = array1 + array2\n",
    "\n",
    "print(result)\n"
   ]
  },
  {
   "cell_type": "code",
   "execution_count": null,
   "id": "f734fed3-e54f-4b1b-959b-85a4a9c7285d",
   "metadata": {},
   "outputs": [],
   "source": [
    "                                                    #PRACTICAL QUESTIONS"
   ]
  },
  {
   "cell_type": "code",
   "execution_count": 18,
   "id": "7a8bd7c5-45a3-429a-b5cd-30467f02dc2c",
   "metadata": {},
   "outputs": [
    {
     "name": "stdout",
     "output_type": "stream",
     "text": [
      "Original Array:\n",
      "[[41 42 14]\n",
      " [89 40 59]\n",
      " [43 19 24]]\n",
      "\n",
      "Transposed Array:\n",
      "[[41 89 43]\n",
      " [42 40 19]\n",
      " [14 59 24]]\n"
     ]
    }
   ],
   "source": [
    "#Q1.Create a 3x3 NumPy array with random integers between 1 and 100. Then, interchange its rows and columns?\n",
    "import numpy as np\n",
    "\n",
    "# Creating a 3x3 array with random integers between 1 and 100\n",
    "array = np.random.randint(1, 101, size=(3, 3))\n",
    "\n",
    "print(\"Original Array:\")\n",
    "print(array)\n",
    "\n",
    "# Interchanging rows and columns (transpose)\n",
    "transposed_array = array.T\n",
    "\n",
    "print(\"\\nTransposed Array:\")\n",
    "print(transposed_array)\n"
   ]
  },
  {
   "cell_type": "code",
   "execution_count": 20,
   "id": "babe89c4-55ee-4d8f-bd7e-e482442cb59f",
   "metadata": {},
   "outputs": [
    {
     "name": "stdout",
     "output_type": "stream",
     "text": [
      "Original 1D Array:\n",
      "[0 1 2 3 4 5 6 7 8 9]\n",
      "\n",
      "2x5 Array:\n",
      "[[0 1 2 3 4]\n",
      " [5 6 7 8 9]]\n",
      "\n",
      "5x2 Array:\n",
      "[[0 1]\n",
      " [2 3]\n",
      " [4 5]\n",
      " [6 7]\n",
      " [8 9]]\n"
     ]
    }
   ],
   "source": [
    "#Q2.Generate a 1D NumPy array with 10 elements. Reshape it into a 2x5 array, then into a 5x2 array?\n",
    "\n",
    "#generating 1D array\n",
    "import numpy as np\n",
    "\n",
    "# Create a 1D array with 10 elements\n",
    "array_1d = np.arange(10)\n",
    "\n",
    "print(\"Original 1D Array:\")\n",
    "print(array_1d)\n",
    "\n",
    "#reshape it into 2X5 array\n",
    "\n",
    "# Reshape into a 2x5 array\n",
    "array_2x5 = array_1d.reshape((2, 5))\n",
    "\n",
    "print(\"\\n2x5 Array:\")\n",
    "print(array_2x5)\n",
    "\n",
    "# Reshape into 5X2 array\n",
    "\n",
    "array_5x2 = array_1d.reshape((5, 2))\n",
    "\n",
    "print(\"\\n5x2 Array:\")\n",
    "print(array_5x2)\n"
   ]
  },
  {
   "cell_type": "code",
   "execution_count": 22,
   "id": "5f8af211-f5f8-42cb-b2c1-1b9f703ab4f3",
   "metadata": {},
   "outputs": [
    {
     "name": "stdout",
     "output_type": "stream",
     "text": [
      "Original 4x4 Array:\n",
      "[[0.46618508 0.7308907  0.05641032 0.89815672]\n",
      " [0.89098499 0.59436379 0.8554135  0.77589643]\n",
      " [0.00096823 0.72546922 0.46209907 0.7608573 ]\n",
      " [0.20454137 0.44889794 0.73732855 0.46077131]]\n",
      "\n",
      "6x6 Array with Border of Zeros:\n",
      "[[0.         0.         0.         0.         0.         0.        ]\n",
      " [0.         0.46618508 0.7308907  0.05641032 0.89815672 0.        ]\n",
      " [0.         0.89098499 0.59436379 0.8554135  0.77589643 0.        ]\n",
      " [0.         0.00096823 0.72546922 0.46209907 0.7608573  0.        ]\n",
      " [0.         0.20454137 0.44889794 0.73732855 0.46077131 0.        ]\n",
      " [0.         0.         0.         0.         0.         0.        ]]\n"
     ]
    }
   ],
   "source": [
    "#Q3. Create a 4x4 NumPy array with random float values. Add a border of zeros around it, resulting in a 6x6 array.\n",
    "\n",
    "import numpy as np\n",
    "\n",
    "# Create a 4x4 array with random float values\n",
    "array_4x4 = np.random.rand(4, 4)\n",
    "\n",
    "print(\"Original 4x4 Array:\")\n",
    "print(array_4x4)\n",
    "\n",
    "# Add a border of zeros around the 4x4 array to form a 6x6 array\n",
    "array_6x6 = np.pad(array_4x4, pad_width=1, mode='constant', constant_values=0)\n",
    "\n",
    "print(\"\\n6x6 Array with Border of Zeros:\")\n",
    "print(array_6x6)\n"
   ]
  },
  {
   "cell_type": "code",
   "execution_count": 24,
   "id": "ce24328e-4fb9-4ecc-8f96-e8a1b0744fa9",
   "metadata": {},
   "outputs": [
    {
     "name": "stdout",
     "output_type": "stream",
     "text": [
      "[10 15 20 25 30 35 40 45 50 55 60]\n"
     ]
    }
   ],
   "source": [
    "#Q4. Using NumPy, create an array of integers from 10 to 60 with a step of 5?\n",
    "\n",
    "import numpy as np\n",
    "\n",
    "# Creating the array\n",
    "array = np.arange(10, 65, 5)\n",
    "\n",
    "print(array)\n"
   ]
  },
  {
   "cell_type": "code",
   "execution_count": 26,
   "id": "fdcdcd98-99b3-41e3-b427-7dc2ff4dcf4c",
   "metadata": {},
   "outputs": [
    {
     "name": "stdout",
     "output_type": "stream",
     "text": [
      "Original Array: ['python' 'numpy' 'pandas']\n",
      "Uppercase Array: ['PYTHON' 'NUMPY' 'PANDAS']\n",
      "Lowercase Array: ['python' 'numpy' 'pandas']\n",
      "Titlecase Array: ['Python' 'Numpy' 'Pandas']\n"
     ]
    }
   ],
   "source": [
    "#Q5.Create a NumPy array of strings ['python', 'numpy', 'pandas']. Apply different case transformations (uppercase, lowercase, title case, etc.) to each element.\n",
    "\n",
    "import numpy as np\n",
    "\n",
    "# Create the array of strings\n",
    "arr = np.array(['python', 'numpy', 'pandas'])\n",
    "\n",
    "# Apply different case transformations\n",
    "uppercase_arr = np.char.upper(arr)\n",
    "lowercase_arr = np.char.lower(arr)\n",
    "titlecase_arr = np.char.title(arr)\n",
    "\n",
    "print(\"Original Array:\", arr)\n",
    "print(\"Uppercase Array:\", uppercase_arr)\n",
    "print(\"Lowercase Array:\", lowercase_arr)\n",
    "print(\"Titlecase Array:\", titlecase_arr)\n"
   ]
  },
  {
   "cell_type": "code",
   "execution_count": 28,
   "id": "fe93a3f2-44e8-4d62-99e7-bf457edfc534",
   "metadata": {},
   "outputs": [
    {
     "name": "stdout",
     "output_type": "stream",
     "text": [
      "Original Array: ['python' 'numpy' 'pandas']\n",
      "Spaced Words Array: ['p y t h o n' 'n u m p y' 'p a n d a s']\n"
     ]
    }
   ],
   "source": [
    "#Q6.Generate a NumPy array of words. Insert a space between each character of every word in the array.\n",
    "\n",
    "import numpy as np\n",
    "\n",
    "# Create an array of words\n",
    "words = np.array(['python', 'numpy', 'pandas'])\n",
    "\n",
    "# Insert a space between each character of every word\n",
    "spaced_words = np.char.join(' ', words)\n",
    "\n",
    "print(\"Original Array:\", words)\n",
    "print(\"Spaced Words Array:\", spaced_words)\n"
   ]
  },
  {
   "cell_type": "code",
   "execution_count": 30,
   "id": "3503f168-b9d1-4a62-9f25-45157410ba91",
   "metadata": {},
   "outputs": [
    {
     "name": "stdout",
     "output_type": "stream",
     "text": [
      "Array 1:\n",
      "[[1 2 3]\n",
      " [4 5 6]]\n",
      "\n",
      "Array 2:\n",
      "[[ 7  8  9]\n",
      " [10 11 12]]\n",
      "\n",
      "Element-wise Addition:\n",
      "[[ 8 10 12]\n",
      " [14 16 18]]\n",
      "\n",
      "Element-wise Subtraction:\n",
      "[[-6 -6 -6]\n",
      " [-6 -6 -6]]\n",
      "\n",
      "Element-wise Multiplication:\n",
      "[[ 7 16 27]\n",
      " [40 55 72]]\n",
      "\n",
      "Element-wise Division:\n",
      "[[0.14285714 0.25       0.33333333]\n",
      " [0.4        0.45454545 0.5       ]]\n"
     ]
    }
   ],
   "source": [
    "#Q7.Create two 2D NumPy arrays and perform element-wise addition, subtraction, multiplication, and division?\n",
    "\n",
    "import numpy as np\n",
    "\n",
    "# Create two 2D arrays\n",
    "array1 = np.array([[1, 2, 3], [4, 5, 6]])\n",
    "array2 = np.array([[7, 8, 9], [10, 11, 12]])\n",
    "\n",
    "print(\"Array 1:\")\n",
    "print(array1)\n",
    "print(\"\\nArray 2:\")\n",
    "print(array2)\n",
    "\n",
    "# Element-wise addition\n",
    "addition = np.add(array1, array2)\n",
    "print(\"\\nElement-wise Addition:\")\n",
    "print(addition)\n",
    "\n",
    "# Element-wise subtraction\n",
    "subtraction = np.subtract(array1, array2)\n",
    "print(\"\\nElement-wise Subtraction:\")\n",
    "print(subtraction)\n",
    "\n",
    "# Element-wise multiplication\n",
    "multiplication = np.multiply(array1, array2)\n",
    "print(\"\\nElement-wise Multiplication:\")\n",
    "print(multiplication)\n",
    "\n",
    "# Element-wise division\n",
    "division = np.divide(array1, array2)\n",
    "print(\"\\nElement-wise Division:\")\n",
    "print(division)\n"
   ]
  },
  {
   "cell_type": "code",
   "execution_count": 32,
   "id": "9b17bbd6-6caf-484e-95db-c372c732e11b",
   "metadata": {},
   "outputs": [
    {
     "name": "stdout",
     "output_type": "stream",
     "text": [
      "5x5 Identity Matrix:\n",
      "[[1. 0. 0. 0. 0.]\n",
      " [0. 1. 0. 0. 0.]\n",
      " [0. 0. 1. 0. 0.]\n",
      " [0. 0. 0. 1. 0.]\n",
      " [0. 0. 0. 0. 1.]]\n",
      "\n",
      "Diagonal Elements:\n",
      "[1. 1. 1. 1. 1.]\n"
     ]
    }
   ],
   "source": [
    "#Q8.Use NumPy to create a 5x5 identity matrix, then extract its diagonal elements.\n",
    "\n",
    "import numpy as np\n",
    "\n",
    "# Creating a 5x5 identity matrix\n",
    "identity_matrix = np.eye(5)\n",
    "\n",
    "print(\"5x5 Identity Matrix:\")\n",
    "print(identity_matrix)\n",
    "\n",
    "# Extracting the diagonal elements\n",
    "diagonal_elements = np.diag(identity_matrix)\n",
    "\n",
    "print(\"\\nDiagonal Elements:\")\n",
    "print(diagonal_elements)\n"
   ]
  },
  {
   "cell_type": "code",
   "execution_count": 34,
   "id": "863a1bd8-236c-4a44-87fa-db4aa4a211e3",
   "metadata": {},
   "outputs": [
    {
     "name": "stdout",
     "output_type": "stream",
     "text": [
      "Array of 100 random integers:\n",
      "[ 20 720 474 705 668  98 959 343 241 411 675 187 576 899 844 857 345 730\n",
      " 157 589 354 369 403 680 712 201  27 343 272 440 937 354 768 508  73 759\n",
      "  28 941 289 209 238 496 871  36 333  88 618  44 371 865 461 847 164 423\n",
      " 615 423 450 173 136 867 128 540 120 348 789 212  63  21 999 624 772 758\n",
      " 533 286 961 322 640 486 800 569 305   2 951 542 364 177 409 697 483 828\n",
      "  57 332 726 230 859 877 699 712 950  44]\n",
      "\n",
      "Prime numbers in the array:\n",
      "[241 857 157 937  73 941 461 173 569   2 409 859 877]\n"
     ]
    }
   ],
   "source": [
    "#Q9.Generate a NumPy array of 100 random integers between 0 and 1000. Find and display all prime numbers in this array.\n",
    "\n",
    "import numpy as np\n",
    "\n",
    "# Generate an array of 100 random integers between 0 and 1000\n",
    "array = np.random.randint(0, 1000, size=100)\n",
    "\n",
    "print(\"Array of 100 random integers:\")\n",
    "print(array)\n",
    "\n",
    "# Function to check if a number is prime\n",
    "def is_prime(n):\n",
    "    if n <= 1:\n",
    "        return False\n",
    "    for i in range(2, int(np.sqrt(n)) + 1):\n",
    "        if n % i == 0:\n",
    "            return False\n",
    "    return True\n",
    "\n",
    "# Find prime numbers in the array\n",
    "prime_numbers = np.array([num for num in array if is_prime(num)])\n",
    "\n",
    "print(\"\\nPrime numbers in the array:\")\n",
    "print(prime_numbers)\n"
   ]
  },
  {
   "cell_type": "code",
   "execution_count": 48,
   "id": "60991527-d1ab-4a9b-a1cd-91bdf5801804",
   "metadata": {},
   "outputs": [
    {
     "name": "stdout",
     "output_type": "stream",
     "text": [
      "Daily Sales for a Month:\n",
      "[447 250 481 103 479 519 792 153 149 994 896 679 593 498 133 141 432 803\n",
      " 311 641 324 321 431 785 340 239 102 347 806 118]\n",
      "Daily Sales for a Month:\n",
      "[465 988 252 276 813 550 383 966 797 782 619 475 295 183 832 431 795 608\n",
      " 376 641 486 330 686 869 817 964 374 979 420 244]\n",
      "Error: cannot reshape array of size 30 into shape (4,7)\n",
      "Ensure the total number of days can be reshaped into complete weeks.\n",
      "\n",
      "Adjusting array to fit weeks...\n",
      "\n",
      "Adjusted Weekly Sales:\n",
      "[[465 988 252 276 813 550 383]\n",
      " [966 797 782 619 475 295 183]\n",
      " [832 431 795 608 376 641 486]\n",
      " [330 686 869 817 964 374 979]]\n",
      "\n",
      "Adjusted Weekly Averages:\n",
      "[532.42857143 588.14285714 595.57142857 717.        ]\n"
     ]
    }
   ],
   "source": [
    "#Q10. Create a NumPy array representing daily temperatures for a month. Calculate and display the weekly averages.\n",
    "\n",
    "import numpy as np\n",
    "\n",
    "# Generate random sales data for 30 days\n",
    "daily_sales = np.random.randint(100, 1000, size=30)\n",
    "print(\"Daily Sales for a Month:\")\n",
    "print(daily_sales)\n",
    "\n",
    "# Ensure we can reshape the array for weekly calculations\n",
    "try:\n",
    "    # Reshape the array to (4 weeks, 7 days)\n",
    "    weekly_sales = daily_sales.reshape((4, 7))\n",
    "    print(\"\\nWeekly Sales:\")\n",
    "    print(weekly_sales)\n",
    "\n",
    "    # Calculate the average sales for each week\n",
    "    weekly_averages = np.mean(weekly_sales, axis=1)\n",
    "    print(\"\\nWeekly Averages:\")\n",
    "    print(weekly_averages)\n",
    "except ValueError as e:\n",
    "    print(\"Error:\", e)\n",
    "    print(\"Ensure the total number of days can be reshaped into complete weeks.\")\n",
    "\n",
    "# Alternative approach if reshaping is the issue\n",
    "if daily_sales.size != 28:  # 4 weeks * 7 days\n",
    "    print(\"\\nAdjusting array to fit weeks...\")\n",
    "    daily_sales = daily_sales[:28]  # Use only the first 28 days for weekly calculation\n",
    "    weekly_sales = daily_sales.reshape((4, 7))\n",
    "    print(\"\\nAdjusted Weekly Sales:\")\n",
    "    print(weekly_sales)\n",
    "\n",
    "    weekly_averages = np.mean(weekly_sales, axis=1)\n",
    "    print(\"\\nAdjusted Weekly Averages:\")\n",
    "    print(weekly_averages)\n"
   ]
  },
  {
   "cell_type": "code",
   "execution_count": null,
   "id": "534567c2-c94c-4203-b2d4-7af60de2f749",
   "metadata": {},
   "outputs": [],
   "source": []
  }
 ],
 "metadata": {
  "kernelspec": {
   "display_name": "Python 3 (ipykernel)",
   "language": "python",
   "name": "python3"
  },
  "language_info": {
   "codemirror_mode": {
    "name": "ipython",
    "version": 3
   },
   "file_extension": ".py",
   "mimetype": "text/x-python",
   "name": "python",
   "nbconvert_exporter": "python",
   "pygments_lexer": "ipython3",
   "version": "3.12.4"
  }
 },
 "nbformat": 4,
 "nbformat_minor": 5
}
